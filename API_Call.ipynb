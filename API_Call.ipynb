{
  "nbformat": 4,
  "nbformat_minor": 0,
  "metadata": {
    "colab": {
      "provenance": [],
      "include_colab_link": true
    },
    "kernelspec": {
      "name": "python3",
      "display_name": "Python 3"
    },
    "language_info": {
      "name": "python"
    }
  },
  "cells": [
    {
      "cell_type": "markdown",
      "metadata": {
        "id": "view-in-github",
        "colab_type": "text"
      },
      "source": [
        "<a href=\"https://colab.research.google.com/github/Blaze-Abaters/ML-Models/blob/main/API_Call.ipynb\" target=\"_parent\"><img src=\"https://colab.research.google.com/assets/colab-badge.svg\" alt=\"Open In Colab\"/></a>"
      ]
    },
    {
      "cell_type": "code",
      "execution_count": null,
      "metadata": {
        "id": "V9Bz7A0JDYKL"
      },
      "outputs": [],
      "source": [
        "#!/usr/bin/pythonfrom cookielib import CookieJar\n",
        "from http.cookiejar import CookieJar\n",
        "from urllib.parse import urlencode\n",
        " \n",
        "import urllib.request as urllib2\n",
        " \n",
        " \n",
        "# The user credentials that will be used to authenticate access to the data\n",
        " \n",
        "username = \"manuelsojan\"\n",
        "password = \"Barcelona10!\"\n",
        "  \n",
        " \n",
        "# The url of the file we wish to retrieve\n",
        " \n",
        "url =  \"https://e4ftl01.cr.usgs.gov//MODV6_Cmp_C/MOLT/MOD13C2.006/2023.01.01/MOD13C2.A2023001.006.2023033235240.hdf\"\n",
        " \n",
        " \n",
        "# Create a password manager to deal with the 401 reponse that is returned from\n",
        "# Earthdata Login\n",
        " \n",
        "password_manager = urllib2.HTTPPasswordMgrWithDefaultRealm()\n",
        "password_manager.add_password(None, \"https://urs.earthdata.nasa.gov\", username, password)\n",
        " \n",
        " \n",
        "# Create a cookie jar for storing cookies. This is used to store and return\n",
        "# the session cookie given to use by the data server (otherwise it will just\n",
        "# keep sending us back to Earthdata Login to authenticate).  Ideally, we\n",
        "# should use a file based cookie jar to preserve cookies between runs. This\n",
        "# will make it much more efficient.\n",
        " \n",
        "cookie_jar = CookieJar()\n",
        "  \n",
        " \n",
        "# Install all the handlers.\n",
        " \n",
        "opener = urllib2.build_opener(\n",
        "    urllib2.HTTPBasicAuthHandler(password_manager),\n",
        "    #urllib2.HTTPHandler(debuglevel=1),    # Uncomment these two lines to see\n",
        "    #urllib2.HTTPSHandler(debuglevel=1),   # details of the requests/responses\n",
        "    urllib2.HTTPCookieProcessor(cookie_jar))\n",
        "urllib2.install_opener(opener)\n",
        " \n",
        " \n",
        "# Create and submit the request. There are a wide range of exceptions that\n",
        "# can be thrown here, including HTTPError and URLError. These should be\n",
        "# caught and handled.\n",
        " \n",
        "request = urllib2.Request(url)\n",
        "response = urllib2.urlopen(request)\n",
        " \n",
        " \n",
        "# Print out the result (not a good idea with binary data!)\n",
        " \n",
        "body = response.read()\n",
        "body"
      ]
    }
  ]
}